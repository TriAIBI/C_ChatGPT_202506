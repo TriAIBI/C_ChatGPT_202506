{
 "cells": [
  {
   "cell_type": "code",
   "execution_count": 2,
   "metadata": {},
   "outputs": [
    {
     "name": "stdout",
     "output_type": "stream",
     "text": [
      "\n",
      "        Directed By: Hwang Dong-hyuk\n",
      "        Starring : Lee Jung-jae, Park Hae-soo, Wi Ha-joon, Jung Ho-yeon\n",
      "        Genre: Thriller, Drama\n",
      "        Synopsis: \"Squid Game\" is a South Korean survival drama series that follows a group of people who are deeply in debt and participate in a mysterious and deadly competition to win a massive cash prize. The players must compete in a series of children's games with deadly consequences for those who fail. As the games progress, the true nature of the competition and its organizers are revealed, leading to intense psychological and moral dilemmas for the contestants. The series explores themes of greed, desperation, and the dark side of human nature."
     ]
    },
    {
     "data": {
      "text/plain": [
       "AIMessageChunk(content='\\n        Directed By: Hwang Dong-hyuk\\n        Starring : Lee Jung-jae, Park Hae-soo, Wi Ha-joon, Jung Ho-yeon\\n        Genre: Thriller, Drama\\n        Synopsis: \"Squid Game\" is a South Korean survival drama series that follows a group of people who are deeply in debt and participate in a mysterious and deadly competition to win a massive cash prize. The players must compete in a series of children\\'s games with deadly consequences for those who fail. As the games progress, the true nature of the competition and its organizers are revealed, leading to intense psychological and moral dilemmas for the contestants. The series explores themes of greed, desperation, and the dark side of human nature.')"
      ]
     },
     "execution_count": 2,
     "metadata": {},
     "output_type": "execute_result"
    }
   ],
   "source": [
    "from langchain.chat_models import ChatOpenAI\n",
    "from langchain.prompts.few_shot import FewShotChatMessagePromptTemplate\n",
    "from langchain.callbacks import StreamingStdOutCallbackHandler\n",
    "from langchain.prompts import ChatMessagePromptTemplate, ChatPromptTemplate\n",
    "\n",
    "chat = ChatOpenAI(\n",
    "    temperature=0.1,\n",
    "    streaming=True,\n",
    "    callbacks=[\n",
    "        StreamingStdOutCallbackHandler(),\n",
    "    ],\n",
    ")\n",
    "\n",
    "\n",
    "examples = [\n",
    "    {\n",
    "        \"title\": \"matix\",\n",
    "        \"answer\": \"\"\"\n",
    "        Directed By: The Wachowskis\n",
    "        Starring : Keanu Reeves, Laurence Fishburne, Carrie-Anne Moss, Hugo Weaving, Joe Pantoliano\n",
    "        Budget: $63 million\n",
    "        Box office:\t$467.6 million\n",
    "        Genre: Science Fiction\n",
    "        Synopsis: The Matrix\" is a sci-fi action film that follows the story of a computer hacker named Neo, who discovers that the reality he lives in is actually a simulated world created by intelligent machines. With the help of a group of rebels led by Morpheus and Trinity, Neo learns about the true nature of the Matrix and his role as \"The One\" who can free humanity from the machines' control. The movie explores themes of reality, perception, and freedom, and is known for its groundbreaking special effects and action sequences.\n",
    "        \"\"\",\n",
    "    },\n",
    "    {\n",
    "        \"title\": \"Moana\",\n",
    "        \"answer\": \"\"\"\n",
    "        Directed By: John Musker, Ron Clements\n",
    "        Starring : Dwayne Johnson, Auliʻi Cravalho\n",
    "        Budget: $150–175 million\n",
    "        Box office\t$687.2 million\n",
    "        Genre: adventure, fantasy, musical\n",
    "        Synopsis: An animated adventure film that follows the journey of a spirited Polynesian girl named Moana. Chosen by the ocean itself, she sets sail on a daring mission to save her people. Along the way, she meets the once-mighty demigod Maui, and together they embark on an epic voyage across the open sea, encountering enormous monsters and impossible odds. Through her journey, Moana discovers her own identity and the true power of her heritage.\n",
    "        \"\"\",\n",
    "    },\n",
    "    {\n",
    "        \"title\": \"Frozen\",\n",
    "        \"answer\": \"\"\"\n",
    "        Directed By: Chris Buck, Jennifer Lee\n",
    "        Starring : Kristen Bell, Idina Menzel, Jonathan Groff, Josh Gad, Santino Fontana\n",
    "        Budget: $150 million\n",
    "        Box office:\t$1.280 billion\n",
    "        Genre: fantasy, adventure, musical\n",
    "        Synopsis: An animated musical fantasy film that tells the story of two sisters, Elsa and Anna, who are princesses in the kingdom of Arendelle. Elsa has magical ice powers that she struggles to control. After accidentally plunging their kingdom into eternal winter, Elsa flees to the mountains to live in isolation. Anna embarks on a journey to find her sister and bring her back, with the help of an ice seller named Kristoff, his reindeer Sven, and a lovable snowman named Olaf. Along the way, they face various challenges and discover the true meaning of love and sisterhood.\n",
    "        \"\"\",\n",
    "    },\n",
    "]\n",
    "\n",
    "\n",
    "example_prompt = ChatPromptTemplate.from_messages(\n",
    "    [\n",
    "        (\"human\", \"What do you know about {title}?\"),\n",
    "        (\"ai\", \"{answer}\"),\n",
    "    ]\n",
    ")\n",
    "\n",
    "example_prompt = FewShotChatMessagePromptTemplate(\n",
    "    example_prompt=example_prompt,\n",
    "    examples=examples,\n",
    ")\n",
    "\n",
    "final_prompt = ChatPromptTemplate.from_messages(\n",
    "    [\n",
    "        (\"system\", \"You are a movie expert, you give short answers.\"),\n",
    "        example_prompt,\n",
    "        (\"human\", \"What do you know about {title}?\"),\n",
    "    ]\n",
    ")\n",
    "\n",
    "chain = final_prompt | chat\n",
    "\n",
    "chain.invoke({\"title\": \"Squid Game\"})"
   ]
  }
 ],
 "metadata": {
  "kernelspec": {
   "display_name": "env",
   "language": "python",
   "name": "python3"
  },
  "language_info": {
   "codemirror_mode": {
    "name": "ipython",
    "version": 3
   },
   "file_extension": ".py",
   "mimetype": "text/x-python",
   "name": "python",
   "nbconvert_exporter": "python",
   "pygments_lexer": "ipython3",
   "version": "3.11.6"
  }
 },
 "nbformat": 4,
 "nbformat_minor": 2
}
