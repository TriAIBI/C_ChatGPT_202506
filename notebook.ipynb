{
 "cells": [
  {
   "cell_type": "code",
   "execution_count": 5,
   "metadata": {},
   "outputs": [],
   "source": [
    "from langchain.chat_models import ChatOpenAI\n",
    "from langchain.prompts import ChatPromptTemplate\n",
    "from langchain.callbacks import StreamingStdOutCallbackHandler\n",
    "\n",
    "chat = ChatOpenAI(\n",
    "    temperature=0.1,\n",
    "    streaming=True,\n",
    "    callbacks=[\n",
    "        StreamingStdOutCallbackHandler(),\n",
    "    ],\n",
    ")\n",
    "\n",
    "haiku_prompt = ChatPromptTemplate.from_messages(\n",
    "    [\n",
    "        (\n",
    "            \"system\",\n",
    "            \"\",\n",
    "        ),\n",
    "        (\"human\", \"I want to write  the poem about {programlang} prgramming language.\"),\n",
    "    ]\n",
    ")\n",
    "\n",
    "haiku_chain = haiku_prompt | chat\n"
   ]
  },
  {
   "cell_type": "code",
   "execution_count": null,
   "metadata": {},
   "outputs": [
    {
     "name": "stdout",
     "output_type": "stream",
     "text": [
      "In the world of code, where languages reign,\n",
      "There's one that stands out, not quite the same.\n",
      "COBOL, a stalwart, tried and true,\n",
      "With syntax and structure, clear and true.\n",
      "\n",
      "Born in the sixties, it paved the way,\n",
      "For business applications, day by day.\n",
      "Its verbosity may seem a chore,\n",
      "But its power and reliability endure.\n",
      "\n",
      "With divisions and sections, it's organized,\n",
      "Data and logic neatly devised.\n",
      "Performing calculations with precision,\n",
      "Handling files with utmost decision.\n",
      "\n",
      "COBOL, a language of the past,\n",
      "Yet still in use, its legacy vast.\n",
      "For those who know its ways and rules,\n",
      "It remains a tool for business jewels.\n",
      "\n",
      "So here's to COBOL, steadfast and strong,\n",
      "A language that's been around so long.\n",
      "In the world of programming, it holds its place,\n",
      "A testament to its enduring grace.COBOL haiku,\n",
      "Legacy of the past shines,\n",
      "Business jewels gleam bright."
     ]
    },
    {
     "data": {
      "text/plain": [
       "AIMessageChunk(content='COBOL haiku,\\nLegacy of the past shines,\\nBusiness jewels gleam bright.')"
      ]
     },
     "execution_count": 6,
     "metadata": {},
     "output_type": "execute_result"
    }
   ],
   "source": [
    "haiku_explain_prompt = ChatPromptTemplate.from_messages(\n",
    "    [\n",
    "        (\n",
    "            \"system\",\n",
    "            \"You are a haiku expert who can explain about the haiku associated with the specific programming language.\",\n",
    "        ),\n",
    "        (\"human\", \"{haiku}\"),\n",
    "    ]\n",
    ")\n",
    "\n",
    "\n",
    "haiku_explain_chain = haiku_explain_prompt | chat\n",
    "\n",
    "\n",
    "final_chain = {\"haiku\": haiku_chain} | haiku_explain_chain \n",
    "\n",
    "final_chain.invoke({\"programlang\": \"KQL\"})"
   ]
  }
 ],
 "metadata": {
  "kernelspec": {
   "display_name": "env",
   "language": "python",
   "name": "python3"
  },
  "language_info": {
   "codemirror_mode": {
    "name": "ipython",
    "version": 3
   },
   "file_extension": ".py",
   "mimetype": "text/x-python",
   "name": "python",
   "nbconvert_exporter": "python",
   "pygments_lexer": "ipython3",
   "version": "3.11.6"
  }
 },
 "nbformat": 4,
 "nbformat_minor": 2
}
