{
 "cells": [
  {
   "cell_type": "code",
   "execution_count": 7,
   "metadata": {},
   "outputs": [],
   "source": [
    "from langchain.chat_models import ChatOpenAI\n",
    "from langchain.prompts import ChatPromptTemplate\n",
    "from langchain.callbacks import StreamingStdOutCallbackHandler\n",
    "\n",
    "chat = ChatOpenAI(\n",
    "    temperature=0.1,\n",
    "    streaming=True,\n",
    "    callbacks=[\n",
    "        StreamingStdOutCallbackHandler(),\n",
    "    ],\n",
    ")\n",
    "\n",
    "haiku_prompt = ChatPromptTemplate.from_messages(\n",
    "    [\n",
    "        (\n",
    "            \"system\",\n",
    "            \"\",\n",
    "        ),\n",
    "        (\"human\", \"I want to write  the poem about {programlang} prgramming language.\"),\n",
    "    ]\n",
    ")\n",
    "\n",
    "haiku_chain = haiku_prompt | chat\n"
   ]
  },
  {
   "cell_type": "code",
   "execution_count": 8,
   "metadata": {},
   "outputs": [
    {
     "name": "stdout",
     "output_type": "stream",
     "text": [
      "In the realm of data, where queries reign supreme,\n",
      "There lies a language, powerful and keen.\n",
      "KQL, the tool of analysts and sleuths,\n",
      "Unraveling insights with its precise truths.\n",
      "\n",
      "Structured and efficient, its syntax clear,\n",
      "Selecting, filtering, grouping with no fear.\n",
      "From logs and metrics, it extracts the gold,\n",
      "Revealing patterns, stories untold.\n",
      "\n",
      "Joins and aggregates, functions galore,\n",
      "Transforming data like never before.\n",
      "Charts and graphs, visualizations bright,\n",
      "Guiding decisions with data's light.\n",
      "\n",
      "In the world of data, KQL stands tall,\n",
      "A language of power, for one and all.\n",
      "So let us embrace its logic and grace,\n",
      "And unlock the secrets of data's embrace.The haiku you've shared beautifully captures the essence of Kusto Query Language (KQL), a powerful language used for querying and analyzing data in various Microsoft services like Azure Data Explorer and Azure Monitor. \n",
      "\n",
      "In the realm of data,\n",
      "Queries reign supreme, precise.\n",
      "KQL, tool of truth.\n",
      "\n",
      "Structured and efficient,\n",
      "Syntax clear, no fear in use.\n",
      "Insights unravel.\n",
      "\n",
      "Joins, aggregates, more,\n",
      "Transforming data's core form.\n",
      "Visualizations.\n",
      "\n",
      "KQL stands tall, strong,\n",
      "Embracing logic and grace.\n",
      "Data's secrets found."
     ]
    },
    {
     "data": {
      "text/plain": [
       "AIMessageChunk(content=\"The haiku you've shared beautifully captures the essence of Kusto Query Language (KQL), a powerful language used for querying and analyzing data in various Microsoft services like Azure Data Explorer and Azure Monitor. \\n\\nIn the realm of data,\\nQueries reign supreme, precise.\\nKQL, tool of truth.\\n\\nStructured and efficient,\\nSyntax clear, no fear in use.\\nInsights unravel.\\n\\nJoins, aggregates, more,\\nTransforming data's core form.\\nVisualizations.\\n\\nKQL stands tall, strong,\\nEmbracing logic and grace.\\nData's secrets found.\")"
      ]
     },
     "execution_count": 8,
     "metadata": {},
     "output_type": "execute_result"
    }
   ],
   "source": [
    "haiku_explain_prompt = ChatPromptTemplate.from_messages(\n",
    "    [\n",
    "        (\n",
    "            \"system\",\n",
    "            \"You are a haiku expert who can explain about the haiku associated with the specific programming language.\",\n",
    "        ),\n",
    "        (\"human\", \"{haiku}\"),\n",
    "    ]\n",
    ")\n",
    "\n",
    "\n",
    "haiku_explain_chain = haiku_explain_prompt | chat\n",
    "\n",
    "\n",
    "final_chain = {\"haiku\": haiku_chain} | haiku_explain_chain \n",
    "\n",
    "final_chain.invoke({\"programlang\": \"KQL\"})"
   ]
  }
 ],
 "metadata": {
  "kernelspec": {
   "display_name": "env",
   "language": "python",
   "name": "python3"
  },
  "language_info": {
   "codemirror_mode": {
    "name": "ipython",
    "version": 3
   },
   "file_extension": ".py",
   "mimetype": "text/x-python",
   "name": "python",
   "nbconvert_exporter": "python",
   "pygments_lexer": "ipython3",
   "version": "3.11.6"
  }
 },
 "nbformat": 4,
 "nbformat_minor": 2
}
