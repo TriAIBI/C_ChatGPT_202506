{
 "cells": [
  {
   "cell_type": "code",
   "execution_count": 1,
   "metadata": {},
   "outputs": [],
   "source": [
    "from langchain.chat_models import ChatOpenAI\n",
    "from langchain.prompts import ChatPromptTemplate\n",
    "from langchain.callbacks import StreamingStdOutCallbackHandler\n",
    "\n",
    "chat = ChatOpenAI(\n",
    "    temperature=0.1,\n",
    "    streaming=True,\n",
    "    callbacks=[\n",
    "        StreamingStdOutCallbackHandler(),\n",
    "    ],\n",
    ")\n",
    "\n",
    "haiku_prompt = ChatPromptTemplate.from_messages(\n",
    "    [\n",
    "        (\n",
    "            \"system\",\n",
    "            \"\",\n",
    "        ),\n",
    "        (\"human\", \"I want to write  the poem about {programlang} prgramming language.\"),\n",
    "    ]\n",
    ")\n",
    "\n",
    "haiku_chain = haiku_prompt | chat\n"
   ]
  },
  {
   "cell_type": "code",
   "execution_count": 5,
   "metadata": {},
   "outputs": [
    {
     "name": "stdout",
     "output_type": "stream",
     "text": [
      "In the realm of code, where languages reign,\n",
      "There's one that stands out, unique and plain.\n",
      "GO, with its simplicity and power,\n",
      "A language that developers truly devour.\n",
      "\n",
      "With its clean syntax and efficient design,\n",
      "GO makes programming a joy, so fine.\n",
      "Concurrency and speed, its forte,\n",
      "Making it a language that's here to stay.\n",
      "\n",
      "From web servers to cloud computing,\n",
      "GO excels, always executing.\n",
      "Robust and reliable, it never fails,\n",
      "A language that always prevails.\n",
      "\n",
      "So here's to GO, the language of choice,\n",
      "For developers who seek to rejoice.\n",
      "In its elegance and functionality,\n",
      "GO stands tall, a true masterpiece in technology.Haiku is a form of Japanese poetry that traditionally consists of three lines with a 5-7-5 syllable pattern. In the context of the programming language Go (often stylized as Golang), a haiku can capture the essence of this language known for its simplicity, efficiency, and concurrency support.\n",
      "\n",
      "Here's a haiku inspired by the content you provided:\n",
      "\n",
      "In the realm of code,\n",
      "GO stands out, clean and plain,\n",
      "Efficient, it reigns.\n",
      "\n",
      "This haiku encapsulates some key aspects of Go, highlighting its simplicity, efficiency, and unique position among programming languages. It reflects the essence of Go as a language that developers appreciate for its straightforward syntax and powerful capabilities in handling concurrency and speed."
     ]
    },
    {
     "data": {
      "text/plain": [
       "AIMessageChunk(content=\"Haiku is a form of Japanese poetry that traditionally consists of three lines with a 5-7-5 syllable pattern. In the context of the programming language Go (often stylized as Golang), a haiku can capture the essence of this language known for its simplicity, efficiency, and concurrency support.\\n\\nHere's a haiku inspired by the content you provided:\\n\\nIn the realm of code,\\nGO stands out, clean and plain,\\nEfficient, it reigns.\\n\\nThis haiku encapsulates some key aspects of Go, highlighting its simplicity, efficiency, and unique position among programming languages. It reflects the essence of Go as a language that developers appreciate for its straightforward syntax and powerful capabilities in handling concurrency and speed.\")"
      ]
     },
     "execution_count": 5,
     "metadata": {},
     "output_type": "execute_result"
    }
   ],
   "source": [
    "haiku_explain_prompt = ChatPromptTemplate.from_messages(\n",
    "    [\n",
    "        (\n",
    "            \"system\",\n",
    "            \"You are a haiku expert who can explain about the haiku associated with the specific programming language.\",\n",
    "        ),\n",
    "        (\"human\", \"{haiku}\"),\n",
    "    ]\n",
    ")\n",
    "\n",
    "\n",
    "haiku_explain_chain = haiku_explain_prompt | chat\n",
    "\n",
    "\n",
    "final_chain = {\"haiku\": haiku_chain} | haiku_explain_chain \n",
    "\n",
    "final_chain.invoke({\"programlang\": \"GO\"})"
   ]
  }
 ],
 "metadata": {
  "kernelspec": {
   "display_name": "env",
   "language": "python",
   "name": "python3"
  },
  "language_info": {
   "codemirror_mode": {
    "name": "ipython",
    "version": 3
   },
   "file_extension": ".py",
   "mimetype": "text/x-python",
   "name": "python",
   "nbconvert_exporter": "python",
   "pygments_lexer": "ipython3",
   "version": "3.11.6"
  }
 },
 "nbformat": 4,
 "nbformat_minor": 2
}
